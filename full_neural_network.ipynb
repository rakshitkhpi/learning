{
  "nbformat": 4,
  "nbformat_minor": 0,
  "metadata": {
    "colab": {
      "name": "full_neural network.ipynb",
      "version": "0.3.2",
      "provenance": [],
      "include_colab_link": true
    },
    "kernelspec": {
      "name": "python3",
      "display_name": "Python 3"
    }
  },
  "cells": [
    {
      "cell_type": "markdown",
      "metadata": {
        "id": "view-in-github",
        "colab_type": "text"
      },
      "source": [
        "[View in Colaboratory](https://colab.research.google.com/github/rakshitrk/learning/blob/master/full_neural_network.ipynb)"
      ]
    },
    {
      "metadata": {
        "id": "xsR-r2R-w3ci",
        "colab_type": "code",
        "colab": {}
      },
      "cell_type": "code",
      "source": [
        "#neural network with back propogation:\n",
        "import numpy as np\n"
      ],
      "execution_count": 0,
      "outputs": []
    },
    {
      "metadata": {
        "id": "Xm3GJWUYw5Qq",
        "colab_type": "code",
        "colab": {
          "base_uri": "https://localhost:8080/",
          "height": 208
        },
        "outputId": "064dc7b1-3e45-4fe9-8821-bea8e3b98228"
      },
      "cell_type": "code",
      "source": [
        "class neural_network():\n",
        "  def __init__(self):\n",
        "   \n",
        "    \n",
        "    np.random.seed(1)\n",
        "    self.w=2*np.random.random((3,1))-1\n",
        "  \n",
        "  def sigmoid(self,x):\n",
        "    return 1/(1+np.exp(-x))\n",
        "  \n",
        "  def d_sigmoid(self,x):\n",
        "    return x*(1-x)\n",
        "  \n",
        "  def process(self,input):\n",
        "    return self.sigmoid(np.dot(input,self.w))\n",
        "  \n",
        "  def train(self,x,y):\n",
        "    for i in range(10000):\n",
        "      z=self.process(x)\n",
        "      \n",
        "      error=y-z\n",
        "      \n",
        "      change_wait=np.dot(x.T,error*self.d_sigmoid(z))\n",
        "      self.w +=change_wait\n",
        "    \n",
        "  \n",
        "  \n",
        "if __name__ ==\"__main__\":\n",
        "  \n",
        "  nn=neural_network()\n",
        "  \n",
        "  print('WEIGHTS BEFORE TRAINING:\\n ',nn.w)\n",
        "  \n",
        "  x=np.array([[0, 0, 1], [1, 1, 1], [1, 0, 1], [0, 1, 1]])\n",
        "  y=np.array([[0, 1, 1, 0]]).T\n",
        "  \n",
        "  nn.train(x,y)\n",
        "  \n",
        "  print('\\nWEIGHTS AFTER TRAINING:\\n',nn.w)\n",
        "  print('\\nNEW SITUATION :',nn.process(np.array([0,0,0])))\n",
        "  \n",
        "  \n",
        "    "
      ],
      "execution_count": 18,
      "outputs": [
        {
          "output_type": "stream",
          "text": [
            "WEIGHTS BEFORE TRAINING:\n",
            "  [[-0.16595599]\n",
            " [ 0.44064899]\n",
            " [-0.99977125]]\n",
            "\n",
            "WEIGHTS AFTER TRAINING:\n",
            " [[ 7.26283009]\n",
            " [-0.21614618]\n",
            " [-3.41703015]]\n",
            "\n",
            "NEW SITUATION : [0.5]\n"
          ],
          "name": "stdout"
        }
      ]
    }
  ]
}
