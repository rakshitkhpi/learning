{
  "nbformat": 4,
  "nbformat_minor": 0,
  "metadata": {
    "colab": {
      "name": "test.ipynb",
      "version": "0.3.2",
      "provenance": [],
      "include_colab_link": true
    },
    "kernelspec": {
      "name": "python3",
      "display_name": "Python 3"
    },
    "accelerator": "GPU"
  },
  "cells": [
    {
      "cell_type": "markdown",
      "metadata": {
        "id": "view-in-github",
        "colab_type": "text"
      },
      "source": [
        "[View in Colaboratory](https://colab.research.google.com/github/rakshitrk/learning/blob/master/neural_network.ipynb)"
      ]
    },
    {
      "metadata": {
        "id": "1x0I5e4sNmz6",
        "colab_type": "code",
        "colab": {}
      },
      "cell_type": "code",
      "source": [
        "import numpy as np\n"
      ],
      "execution_count": 0,
      "outputs": []
    },
    {
      "metadata": {
        "id": "66gS3871QJ5u",
        "colab_type": "code",
        "colab": {
          "base_uri": "https://localhost:8080/",
          "height": 312
        },
        "outputId": "5741e2b3-d64c-4592-9b90-db4bfad809c3"
      },
      "cell_type": "code",
      "source": [
        "x=np.array([[0,0,1],[1,1,1],[1,0,1],[0,1,1]])\n",
        "y=np.array([[0,1,1,0]])\n",
        "\n",
        "def sigmoid(x):\n",
        "  return 1/(1+np.exp(-x))\n",
        "\n",
        "\n",
        "\n",
        "np.random.seed(1)\n",
        "w=2*np.random.random((3,1)) -1\n",
        "\n",
        "\n",
        "z = sigmoid(np.dot(x,w))\n",
        "  \n",
        "error=y-z\n",
        "  \n",
        "print('\\n\\nweight',w)\n",
        "print('\\n\\n output',z)\n",
        "print('\\n\\nERROR',error)\n",
        "  \n"
      ],
      "execution_count": 69,
      "outputs": [
        {
          "output_type": "stream",
          "text": [
            "\n",
            "\n",
            "weight [[-0.16595599]\n",
            " [ 0.44064899]\n",
            " [-0.99977125]]\n",
            "\n",
            "\n",
            " output [[0.2689864 ]\n",
            " [0.3262757 ]\n",
            " [0.23762817]\n",
            " [0.36375058]]\n",
            "\n",
            "\n",
            "ERROR [[-0.2689864   0.7310136   0.7310136  -0.2689864 ]\n",
            " [-0.3262757   0.6737243   0.6737243  -0.3262757 ]\n",
            " [-0.23762817  0.76237183  0.76237183 -0.23762817]\n",
            " [-0.36375058  0.63624942  0.63624942 -0.36375058]]\n"
          ],
          "name": "stdout"
        }
      ]
    }
  ]
}