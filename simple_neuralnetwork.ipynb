{
  "nbformat": 4,
  "nbformat_minor": 0,
  "metadata": {
    "colab": {
      "name": "simple_neuralnetwork.ipynb",
      "version": "0.3.2",
      "provenance": [],
      "include_colab_link": true
    },
    "kernelspec": {
      "name": "python3",
      "display_name": "Python 3"
    },
    "accelerator": "GPU"
  },
  "cells": [
    {
      "cell_type": "markdown",
      "metadata": {
        "id": "view-in-github",
        "colab_type": "text"
      },
      "source": [
        "[View in Colaboratory](https://colab.research.google.com/github/rakshitrk/learning/blob/master/simple_neuralnetwork.ipynb)"
      ]
    },
    {
      "metadata": {
        "id": "1x0I5e4sNmz6",
        "colab_type": "code",
        "colab": {}
      },
      "cell_type": "code",
      "source": [
        "import numpy as np\n"
      ],
      "execution_count": 0,
      "outputs": []
    },
    {
      "metadata": {
        "id": "66gS3871QJ5u",
        "colab_type": "code",
        "colab": {
          "base_uri": "https://localhost:8080/",
          "height": 208
        },
        "outputId": "a867f6f5-518c-4ca5-acba-baec59ec9c31"
      },
      "cell_type": "code",
      "source": [
        "#simple neural network without back propogation that just produce output\n",
        "\n",
        "#INPUPT\n",
        "x=np.array([[0,0,1],[1,1,1],[1,0,1],[0,1,1]])\n",
        "#OUTPUT\n",
        "y=np.array([[0,1,1,0]]).T\n",
        "\n",
        "#ACTIVATION\n",
        "def sigmoid(x):\n",
        "  return 1/(1+np.exp(-x))\n",
        "\n",
        "\n",
        "#RANDOMLLY WEIGHTS\n",
        "np.random.seed(1)\n",
        "w=2*np.random.random((3,1)) -1\n",
        "\n",
        "#APPLYING ACTIVATION FUNCTION TO WEIGHT+INPUT\n",
        "z = sigmoid(np.dot(x,w))\n",
        "  \n",
        "\n",
        "  \n",
        "print('\\n\\n RANDOM WEIGHTS APPLIED',w)\n",
        "print('\\n\\n OUTPUT:',z)\n",
        "\n",
        "  \n"
      ],
      "execution_count": 0,
      "outputs": [
        {
          "output_type": "stream",
          "text": [
            "\n",
            "\n",
            " RANDOM WEIGHTS APPLIED [[-0.16595599]\n",
            " [ 0.44064899]\n",
            " [-0.99977125]]\n",
            "\n",
            "\n",
            " OUTPUT: [[0.2689864 ]\n",
            " [0.3262757 ]\n",
            " [0.23762817]\n",
            " [0.36375058]]\n"
          ],
          "name": "stdout"
        }
      ]
    }
  ]
}